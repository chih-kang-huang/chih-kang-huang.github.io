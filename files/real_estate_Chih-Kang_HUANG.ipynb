{
 "cells": [
  {
   "cell_type": "markdown",
   "metadata": {},
   "source": [
    "# Test technique Yanport du 21 Août 2023\n",
    "Chih-Kang HUANG"
   ]
  },
  {
   "cell_type": "markdown",
   "metadata": {},
   "source": [
    "## Objectif : \n",
    "\n",
    "Nous vous proposons de regrouper les annonces immobilières portant sur un même bien immobilier. En effet, plusieurs professionnels (voire particuliers) publient sur plusieurs portails immobiliers des annonces portant sur le même bien immobilier et il y a un intérêt fort de les dédoublonner pour rendre la recherche plus efficace mais aussi pour avoir des statistiques plus pertinentes. \n"
   ]
  },
  {
   "cell_type": "markdown",
   "metadata": {},
   "source": [
    "\n",
    "La stratégie repose sur une méthode hybride, combinant des comparaisons classiques et une analyse de texte de base à l'aide d'un modèle de langage.\n",
    "\n",
    "**Hypothèse** : Dans ce document, nous supposons qu'il n'y a ni de fausses saisies ni de fausses annonces. Nous aborderons ce point de vue à la conclusion de ce document et proposerons quelques pistes d'amélioration éventuelles.\n",
    "\n",
    "Les étapes clés sont les suivantes :\n",
    "\n",
    "1. Après avoir minutieusement analysé et nettoyé nos données, nous commençons par identifier les caractéristiques essentielles qui permettent de déterminer si deux annonces sont très probablement identiques ou différentes. Nous classifions principalement ces caractéristiques en trois catégories : liens, catégoriques et numériques.\n",
    "\n",
    "2. Nous exploitons un modèle de langage avancé sur la colonne \"DESCRIPTION\" afin de quantifier les similitudes entre deux textes.\n",
    "    \n",
    "3. Enfin, en utilisant les fonctions de critères que nous avons élaborées précédemment, nous créons un nouveau DataFrame avec une colonne de clés d'identification. Cette clé nous permettra de regrouper facilement les annonces décrivant le même bien immobilier."
   ]
  },
  {
   "cell_type": "code",
   "execution_count": 1,
   "metadata": {},
   "outputs": [],
   "source": [
    "## Only for google Colab \n",
    "#!pip install huggingface_hub\n",
    "#!pip install transformers sentencepiece protobuf tokenizer\n",
    "#\n",
    "#from google.colab import drive\n",
    "#\n",
    "#drive.mount('/content/drive'\n",
    "#======================================================\n",
    "\n",
    "# Chargement des biliothèques dont nous aurions besoin :\n",
    "import pandas as pd\n",
    "import numpy as np\n",
    "\n",
    "# helpful modules\n",
    "import json # change string to list/dictionnary\n",
    "import matplotlib.pyplot as plt\n",
    "import seaborn as sns # data visualization\n",
    "\n",
    "# CrossEncoder pour le traitement automatique du langage\n",
    "from sentence_transformers import CrossEncoder\n",
    "\n",
    "# import fuzzywuzzy\n",
    "# from fuzzywuzzy import process\n",
    "# import charset_normalizer\n",
    "\n",
    "# Zero-shot Classification\n",
    "# from transformers import pipeline\n",
    "# from huggingface_hub import notebook_login\n",
    "# \n",
    "# notebook_login()\n",
    "# \n",
    "# classifier = pipeline(\"zero-shot-classification\",\n",
    "#                       model=\"joeddav/xlm-roberta-large-xnli\")\n",
    "#classifier = pipeline(\"zero-shot-classification\",\n",
    "#                      model=\"joeddav/xlm-roberta-large-xnli\", device=0) # GPU\n"
   ]
  },
  {
   "cell_type": "markdown",
   "metadata": {},
   "source": [
    "Lors du chargement d'un fichier CSV en tant que DataFrame à l'aide de *Pandas*, il est essentiel de prendre en compte les problèmes potentiels liés à l'encodage. Cela se produit fréquemment dans les pays où les langues utilisées ne sont pas basées sur l'alphabet standard :"
   ]
  },
  {
   "cell_type": "code",
   "execution_count": 2,
   "metadata": {},
   "outputs": [
    {
     "data": {
      "text/html": [
       "<div>\n",
       "<style scoped>\n",
       "    .dataframe tbody tr th:only-of-type {\n",
       "        vertical-align: middle;\n",
       "    }\n",
       "\n",
       "    .dataframe tbody tr th {\n",
       "        vertical-align: top;\n",
       "    }\n",
       "\n",
       "    .dataframe thead th {\n",
       "        text-align: right;\n",
       "    }\n",
       "</style>\n",
       "<table border=\"1\" class=\"dataframe\">\n",
       "  <thead>\n",
       "    <tr style=\"text-align: right;\">\n",
       "      <th></th>\n",
       "      <th>ID</th>\n",
       "      <th>URL</th>\n",
       "      <th>CRAWL_SOURCE</th>\n",
       "      <th>PROPERTY_TYPE</th>\n",
       "      <th>NEW_BUILD</th>\n",
       "      <th>DESCRIPTION</th>\n",
       "      <th>IMAGES</th>\n",
       "      <th>SURFACE</th>\n",
       "      <th>LAND_SURFACE</th>\n",
       "      <th>BALCONY_SURFACE</th>\n",
       "      <th>...</th>\n",
       "      <th>DEALER_NAME</th>\n",
       "      <th>DEALER_TYPE</th>\n",
       "      <th>CITY_ID</th>\n",
       "      <th>CITY</th>\n",
       "      <th>ZIP_CODE</th>\n",
       "      <th>DEPT_CODE</th>\n",
       "      <th>PUBLICATION_START_DATE</th>\n",
       "      <th>PUBLICATION_END_DATE</th>\n",
       "      <th>LAST_CRAWL_DATE</th>\n",
       "      <th>LAST_PRICE_DECREASE_DATE</th>\n",
       "    </tr>\n",
       "  </thead>\n",
       "  <tbody>\n",
       "    <tr>\n",
       "      <th>0</th>\n",
       "      <td>22c05930-0eb5-11e7-b53d-bbead8ba43fe</td>\n",
       "      <td>http://www.avendrealouer.fr/location/levallois...</td>\n",
       "      <td>A_VENDRE_A_LOUER</td>\n",
       "      <td>APARTMENT</td>\n",
       "      <td>False</td>\n",
       "      <td>Au rez de chaussée d'un bel immeuble récent,ap...</td>\n",
       "      <td>[\"https://cf-medias.avendrealouer.fr/image/_87...</td>\n",
       "      <td>72.00</td>\n",
       "      <td>NaN</td>\n",
       "      <td>NaN</td>\n",
       "      <td>...</td>\n",
       "      <td>Lamirand Et Associes</td>\n",
       "      <td>AGENCY</td>\n",
       "      <td>54178039</td>\n",
       "      <td>Levallois-Perret</td>\n",
       "      <td>92300.0</td>\n",
       "      <td>92</td>\n",
       "      <td>2017-03-22T04:07:56.095</td>\n",
       "      <td>NaN</td>\n",
       "      <td>2017-04-21T18:52:35.733</td>\n",
       "      <td>NaN</td>\n",
       "    </tr>\n",
       "    <tr>\n",
       "      <th>1</th>\n",
       "      <td>8d092fa0-bb99-11e8-a7c9-852783b5a69d</td>\n",
       "      <td>https://www.bienici.com/annonce/ag440414-16547...</td>\n",
       "      <td>BIEN_ICI</td>\n",
       "      <td>APARTMENT</td>\n",
       "      <td>False</td>\n",
       "      <td>Je vous propose un appartement dans la rue Col...</td>\n",
       "      <td>[\"http://photos.ubiflow.net/440414/165474561/p...</td>\n",
       "      <td>48.00</td>\n",
       "      <td>NaN</td>\n",
       "      <td>NaN</td>\n",
       "      <td>...</td>\n",
       "      <td>Proprietes Privees</td>\n",
       "      <td>MANDATARY</td>\n",
       "      <td>54178039</td>\n",
       "      <td>Levallois-Perret</td>\n",
       "      <td>92300.0</td>\n",
       "      <td>92</td>\n",
       "      <td>2018-09-18T11:04:44.461</td>\n",
       "      <td>NaN</td>\n",
       "      <td>2019-06-06T10:08:10.89</td>\n",
       "      <td>2018-09-25</td>\n",
       "    </tr>\n",
       "    <tr>\n",
       "      <th>2</th>\n",
       "      <td>44b6a5c0-3466-11e9-8213-25cc7d9bf5fc</td>\n",
       "      <td>https://www.bellesdemeures.com/annonces/vente/...</td>\n",
       "      <td>BELLES_DEMEURES</td>\n",
       "      <td>APARTMENT</td>\n",
       "      <td>False</td>\n",
       "      <td>Dans un cadre arboré, calme et fleuri, un pent...</td>\n",
       "      <td>[\"https://v.seloger.com/s/width/965/visuels/0/...</td>\n",
       "      <td>267.00</td>\n",
       "      <td>NaN</td>\n",
       "      <td>NaN</td>\n",
       "      <td>...</td>\n",
       "      <td>Propriétés Parisiennes</td>\n",
       "      <td>AGENCY</td>\n",
       "      <td>54178039</td>\n",
       "      <td>Levallois-Perret</td>\n",
       "      <td>92300.0</td>\n",
       "      <td>92</td>\n",
       "      <td>2019-02-19T16:49:03.547</td>\n",
       "      <td>NaN</td>\n",
       "      <td>2019-06-13T08:22:14.314</td>\n",
       "      <td>NaN</td>\n",
       "    </tr>\n",
       "    <tr>\n",
       "      <th>3</th>\n",
       "      <td>e9e07ed0-812f-11e8-82aa-61eacebe4584</td>\n",
       "      <td>https://www.seloger.com/annonces/locations/bur...</td>\n",
       "      <td>SE_LOGER</td>\n",
       "      <td>PREMISES</td>\n",
       "      <td>False</td>\n",
       "      <td>\"Le meilleur coworking flexible de la ville, 5...</td>\n",
       "      <td>[\"https://pix.yanport.com/ads/e9e07ed0-812f-11...</td>\n",
       "      <td>50.00</td>\n",
       "      <td>NaN</td>\n",
       "      <td>NaN</td>\n",
       "      <td>...</td>\n",
       "      <td>Iwg</td>\n",
       "      <td>AGENCY</td>\n",
       "      <td>54178039</td>\n",
       "      <td>Levallois-Perret</td>\n",
       "      <td>92300.0</td>\n",
       "      <td>92</td>\n",
       "      <td>2018-07-06T15:18:59.805</td>\n",
       "      <td>NaN</td>\n",
       "      <td>2019-06-18T10:40:07.405</td>\n",
       "      <td>NaN</td>\n",
       "    </tr>\n",
       "    <tr>\n",
       "      <th>4</th>\n",
       "      <td>872302b0-5a21-11e9-950c-510fefc1ed35</td>\n",
       "      <td>https://www.bellesdemeures.com/annonces/vente/...</td>\n",
       "      <td>BELLES_DEMEURES</td>\n",
       "      <td>HOUSE</td>\n",
       "      <td>False</td>\n",
       "      <td>Levallois - Parc de la Planchette A toute prox...</td>\n",
       "      <td>[\"https://v.seloger.com/s/width/966/visuels/0/...</td>\n",
       "      <td>330.00</td>\n",
       "      <td>NaN</td>\n",
       "      <td>NaN</td>\n",
       "      <td>...</td>\n",
       "      <td>Daniel Feau Neuilly</td>\n",
       "      <td>AGENCY</td>\n",
       "      <td>54178039</td>\n",
       "      <td>Levallois-Perret</td>\n",
       "      <td>92300.0</td>\n",
       "      <td>92</td>\n",
       "      <td>2019-04-08T17:12:20.123</td>\n",
       "      <td>NaN</td>\n",
       "      <td>2019-06-14T15:02:18.155</td>\n",
       "      <td>2019-06-14</td>\n",
       "    </tr>\n",
       "    <tr>\n",
       "      <th>5</th>\n",
       "      <td>de04afa0-2e5f-11e8-bda5-3334b193df7f</td>\n",
       "      <td>https://immobilier.lefigaro.fr/annonces/annonc...</td>\n",
       "      <td>EXPLORIMMO</td>\n",
       "      <td>APARTMENT</td>\n",
       "      <td>False</td>\n",
       "      <td>LEVALLOIS - FRONT DE SEINE - 5-6 PIECES Appart...</td>\n",
       "      <td>[\"http://photo3.pericles.fr/photo_get.php?S1=3...</td>\n",
       "      <td>142.76</td>\n",
       "      <td>NaN</td>\n",
       "      <td>NaN</td>\n",
       "      <td>...</td>\n",
       "      <td>Building Partners</td>\n",
       "      <td>AGENCY</td>\n",
       "      <td>54178039</td>\n",
       "      <td>Levallois-Perret</td>\n",
       "      <td>92300.0</td>\n",
       "      <td>92</td>\n",
       "      <td>2018-03-23T06:03:10.963</td>\n",
       "      <td>NaN</td>\n",
       "      <td>2019-07-10T15:06:39.615</td>\n",
       "      <td>NaN</td>\n",
       "    </tr>\n",
       "    <tr>\n",
       "      <th>6</th>\n",
       "      <td>530c7ac0-36a5-11e7-a435-b3bf21527190</td>\n",
       "      <td>https://www.seloger.com/annonces/locations/bur...</td>\n",
       "      <td>SE_LOGER</td>\n",
       "      <td>PREMISES</td>\n",
       "      <td>False</td>\n",
       "      <td>LEVALLOIS, Paul Vaillant Couturier, près gare ...</td>\n",
       "      <td>[\"https://v.seloger.com/s/cdn/x/visuels/2/2/r/...</td>\n",
       "      <td>63.00</td>\n",
       "      <td>NaN</td>\n",
       "      <td>NaN</td>\n",
       "      <td>...</td>\n",
       "      <td>Cabinet De L''ouest Parisien</td>\n",
       "      <td>AGENCY</td>\n",
       "      <td>54178039</td>\n",
       "      <td>Levallois-Perret</td>\n",
       "      <td>92300.0</td>\n",
       "      <td>92</td>\n",
       "      <td>2017-04-27T01:35:00.674</td>\n",
       "      <td>NaN</td>\n",
       "      <td>2019-07-10T15:06:17.12</td>\n",
       "      <td>2019-07-10</td>\n",
       "    </tr>\n",
       "    <tr>\n",
       "      <th>7</th>\n",
       "      <td>5135e0a0-62dd-11e8-91b3-8d7b603ef3b8</td>\n",
       "      <td>https://immobilier.lefigaro.fr/annonces/annonc...</td>\n",
       "      <td>EXPLORIMMO</td>\n",
       "      <td>PARKING</td>\n",
       "      <td>NaN</td>\n",
       "      <td>Louez au mois un parking privé au 2 rue Mauric...</td>\n",
       "      <td>[\"http://photos.ubiflow.net/751982/151820943/p...</td>\n",
       "      <td>16.00</td>\n",
       "      <td>NaN</td>\n",
       "      <td>NaN</td>\n",
       "      <td>...</td>\n",
       "      <td>Yespark</td>\n",
       "      <td>AGENCY</td>\n",
       "      <td>54178039</td>\n",
       "      <td>Levallois-Perret</td>\n",
       "      <td>92300.0</td>\n",
       "      <td>92</td>\n",
       "      <td>2018-05-29T01:12:11.485</td>\n",
       "      <td>NaN</td>\n",
       "      <td>2019-07-10T02:46:51.652</td>\n",
       "      <td>NaN</td>\n",
       "    </tr>\n",
       "    <tr>\n",
       "      <th>8</th>\n",
       "      <td>bc076370-45ec-11e9-a00a-897941d6ca9c</td>\n",
       "      <td>https://www.leboncoin.fr/locations/1583612210.htm</td>\n",
       "      <td>LE_BON_COIN</td>\n",
       "      <td>PARKING</td>\n",
       "      <td>NaN</td>\n",
       "      <td>LOUE place de parking dans résidence de standi...</td>\n",
       "      <td>[\"https://pix.yanport.com/ads/bc076370-45ec-11...</td>\n",
       "      <td>11.00</td>\n",
       "      <td>NaN</td>\n",
       "      <td>NaN</td>\n",
       "      <td>...</td>\n",
       "      <td>baudoin</td>\n",
       "      <td>PRIVATE</td>\n",
       "      <td>54178039</td>\n",
       "      <td>Levallois-Perret</td>\n",
       "      <td>92300.0</td>\n",
       "      <td>92</td>\n",
       "      <td>2019-03-14T00:04:24.651</td>\n",
       "      <td>NaN</td>\n",
       "      <td>2019-07-13T11:03:51.699</td>\n",
       "      <td>NaN</td>\n",
       "    </tr>\n",
       "    <tr>\n",
       "      <th>9</th>\n",
       "      <td>08491e50-8dfe-11e9-8a42-a16638394d93</td>\n",
       "      <td>https://www.leboncoin.fr/ventes_immobilieres/1...</td>\n",
       "      <td>LE_BON_COIN</td>\n",
       "      <td>APARTMENT</td>\n",
       "      <td>False</td>\n",
       "      <td>A VENDRE APPARTEMENT DE 2 PIÈCES MAIRIE DE LEV...</td>\n",
       "      <td>[\"https://pix.yanport.com/ads/08491e50-8dfe-11...</td>\n",
       "      <td>57.00</td>\n",
       "      <td>NaN</td>\n",
       "      <td>NaN</td>\n",
       "      <td>...</td>\n",
       "      <td>Impact Immo</td>\n",
       "      <td>AGENCY</td>\n",
       "      <td>54178039</td>\n",
       "      <td>Levallois-Perret</td>\n",
       "      <td>92300.0</td>\n",
       "      <td>92</td>\n",
       "      <td>2019-06-13T17:09:20.737</td>\n",
       "      <td>NaN</td>\n",
       "      <td>2019-07-13T18:17:01.782</td>\n",
       "      <td>2019-07-13</td>\n",
       "    </tr>\n",
       "  </tbody>\n",
       "</table>\n",
       "<p>10 rows × 57 columns</p>\n",
       "</div>"
      ],
      "text/plain": [
       "                                     ID  \\\n",
       "0  22c05930-0eb5-11e7-b53d-bbead8ba43fe   \n",
       "1  8d092fa0-bb99-11e8-a7c9-852783b5a69d   \n",
       "2  44b6a5c0-3466-11e9-8213-25cc7d9bf5fc   \n",
       "3  e9e07ed0-812f-11e8-82aa-61eacebe4584   \n",
       "4  872302b0-5a21-11e9-950c-510fefc1ed35   \n",
       "5  de04afa0-2e5f-11e8-bda5-3334b193df7f   \n",
       "6  530c7ac0-36a5-11e7-a435-b3bf21527190   \n",
       "7  5135e0a0-62dd-11e8-91b3-8d7b603ef3b8   \n",
       "8  bc076370-45ec-11e9-a00a-897941d6ca9c   \n",
       "9  08491e50-8dfe-11e9-8a42-a16638394d93   \n",
       "\n",
       "                                                 URL      CRAWL_SOURCE  \\\n",
       "0  http://www.avendrealouer.fr/location/levallois...  A_VENDRE_A_LOUER   \n",
       "1  https://www.bienici.com/annonce/ag440414-16547...          BIEN_ICI   \n",
       "2  https://www.bellesdemeures.com/annonces/vente/...   BELLES_DEMEURES   \n",
       "3  https://www.seloger.com/annonces/locations/bur...          SE_LOGER   \n",
       "4  https://www.bellesdemeures.com/annonces/vente/...   BELLES_DEMEURES   \n",
       "5  https://immobilier.lefigaro.fr/annonces/annonc...        EXPLORIMMO   \n",
       "6  https://www.seloger.com/annonces/locations/bur...          SE_LOGER   \n",
       "7  https://immobilier.lefigaro.fr/annonces/annonc...        EXPLORIMMO   \n",
       "8  https://www.leboncoin.fr/locations/1583612210.htm       LE_BON_COIN   \n",
       "9  https://www.leboncoin.fr/ventes_immobilieres/1...       LE_BON_COIN   \n",
       "\n",
       "  PROPERTY_TYPE NEW_BUILD                                        DESCRIPTION  \\\n",
       "0     APARTMENT     False  Au rez de chaussée d'un bel immeuble récent,ap...   \n",
       "1     APARTMENT     False  Je vous propose un appartement dans la rue Col...   \n",
       "2     APARTMENT     False  Dans un cadre arboré, calme et fleuri, un pent...   \n",
       "3      PREMISES     False  \"Le meilleur coworking flexible de la ville, 5...   \n",
       "4         HOUSE     False  Levallois - Parc de la Planchette A toute prox...   \n",
       "5     APARTMENT     False  LEVALLOIS - FRONT DE SEINE - 5-6 PIECES Appart...   \n",
       "6      PREMISES     False  LEVALLOIS, Paul Vaillant Couturier, près gare ...   \n",
       "7       PARKING       NaN  Louez au mois un parking privé au 2 rue Mauric...   \n",
       "8       PARKING       NaN  LOUE place de parking dans résidence de standi...   \n",
       "9     APARTMENT     False  A VENDRE APPARTEMENT DE 2 PIÈCES MAIRIE DE LEV...   \n",
       "\n",
       "                                              IMAGES  SURFACE  LAND_SURFACE  \\\n",
       "0  [\"https://cf-medias.avendrealouer.fr/image/_87...    72.00           NaN   \n",
       "1  [\"http://photos.ubiflow.net/440414/165474561/p...    48.00           NaN   \n",
       "2  [\"https://v.seloger.com/s/width/965/visuels/0/...   267.00           NaN   \n",
       "3  [\"https://pix.yanport.com/ads/e9e07ed0-812f-11...    50.00           NaN   \n",
       "4  [\"https://v.seloger.com/s/width/966/visuels/0/...   330.00           NaN   \n",
       "5  [\"http://photo3.pericles.fr/photo_get.php?S1=3...   142.76           NaN   \n",
       "6  [\"https://v.seloger.com/s/cdn/x/visuels/2/2/r/...    63.00           NaN   \n",
       "7  [\"http://photos.ubiflow.net/751982/151820943/p...    16.00           NaN   \n",
       "8  [\"https://pix.yanport.com/ads/bc076370-45ec-11...    11.00           NaN   \n",
       "9  [\"https://pix.yanport.com/ads/08491e50-8dfe-11...    57.00           NaN   \n",
       "\n",
       "   BALCONY_SURFACE  ...                   DEALER_NAME  DEALER_TYPE   CITY_ID  \\\n",
       "0              NaN  ...          Lamirand Et Associes       AGENCY  54178039   \n",
       "1              NaN  ...            Proprietes Privees    MANDATARY  54178039   \n",
       "2              NaN  ...        Propriétés Parisiennes       AGENCY  54178039   \n",
       "3              NaN  ...                           Iwg       AGENCY  54178039   \n",
       "4              NaN  ...           Daniel Feau Neuilly       AGENCY  54178039   \n",
       "5              NaN  ...             Building Partners       AGENCY  54178039   \n",
       "6              NaN  ...  Cabinet De L''ouest Parisien       AGENCY  54178039   \n",
       "7              NaN  ...                       Yespark       AGENCY  54178039   \n",
       "8              NaN  ...                       baudoin      PRIVATE  54178039   \n",
       "9              NaN  ...                   Impact Immo       AGENCY  54178039   \n",
       "\n",
       "               CITY  ZIP_CODE  DEPT_CODE   PUBLICATION_START_DATE  \\\n",
       "0  Levallois-Perret   92300.0         92  2017-03-22T04:07:56.095   \n",
       "1  Levallois-Perret   92300.0         92  2018-09-18T11:04:44.461   \n",
       "2  Levallois-Perret   92300.0         92  2019-02-19T16:49:03.547   \n",
       "3  Levallois-Perret   92300.0         92  2018-07-06T15:18:59.805   \n",
       "4  Levallois-Perret   92300.0         92  2019-04-08T17:12:20.123   \n",
       "5  Levallois-Perret   92300.0         92  2018-03-23T06:03:10.963   \n",
       "6  Levallois-Perret   92300.0         92  2017-04-27T01:35:00.674   \n",
       "7  Levallois-Perret   92300.0         92  2018-05-29T01:12:11.485   \n",
       "8  Levallois-Perret   92300.0         92  2019-03-14T00:04:24.651   \n",
       "9  Levallois-Perret   92300.0         92  2019-06-13T17:09:20.737   \n",
       "\n",
       "   PUBLICATION_END_DATE          LAST_CRAWL_DATE  LAST_PRICE_DECREASE_DATE  \n",
       "0                   NaN  2017-04-21T18:52:35.733                       NaN  \n",
       "1                   NaN   2019-06-06T10:08:10.89                2018-09-25  \n",
       "2                   NaN  2019-06-13T08:22:14.314                       NaN  \n",
       "3                   NaN  2019-06-18T10:40:07.405                       NaN  \n",
       "4                   NaN  2019-06-14T15:02:18.155                2019-06-14  \n",
       "5                   NaN  2019-07-10T15:06:39.615                       NaN  \n",
       "6                   NaN   2019-07-10T15:06:17.12                2019-07-10  \n",
       "7                   NaN  2019-07-10T02:46:51.652                       NaN  \n",
       "8                   NaN  2019-07-13T11:03:51.699                       NaN  \n",
       "9                   NaN  2019-07-13T18:17:01.782                2019-07-13  \n",
       "\n",
       "[10 rows x 57 columns]"
      ]
     },
     "execution_count": 2,
     "metadata": {},
     "output_type": "execute_result"
    }
   ],
   "source": [
    "data_path = \"./Dataset - Ads _ Levallois-Perret - 2019-08 - export-ads-levallois-perret-2019-08-27.csv\"\n",
    "df = pd.read_csv(data_path, encoding=\"utf-8\")\n",
    "df.head(10)"
   ]
  },
  {
   "cell_type": "markdown",
   "metadata": {},
   "source": [
    "Nous observons dans le DataFrame que certaines cellules ne sont pas remplies, affichant plutôt la valeur NaN "
   ]
  },
  {
   "cell_type": "code",
   "execution_count": 3,
   "metadata": {},
   "outputs": [
    {
     "name": "stdout",
     "output_type": "stream",
     "text": [
      "La taille des données est de (2164, 57) \n",
      " il y a 64386 de cellules non remplies , soit 52.19865745695107% des cases non remplis\n"
     ]
    }
   ],
   "source": [
    "a, b  = df.shape\n",
    "missing_value_count = df.isnull().sum()\n",
    "nb_empty_cases = missing_value_count.sum()/(a*b)\n",
    "print (\"La taille des données est de\", df.shape, \"\\n il y a {} de cellules non remplies\".format(missing_value_count.sum()), \", soit {}% des cases non remplis\".format(100* nb_empty_cases))"
   ]
  },
  {
   "cell_type": "code",
   "execution_count": 4,
   "metadata": {},
   "outputs": [
    {
     "data": {
      "text/plain": [
       "array([dtype('O'), dtype('float64'), dtype('bool'), dtype('int64')],\n",
       "      dtype=object)"
      ]
     },
     "execution_count": 4,
     "metadata": {},
     "output_type": "execute_result"
    }
   ],
   "source": [
    "df.dtypes.unique()"
   ]
  },
  {
   "cell_type": "code",
   "execution_count": 5,
   "metadata": {},
   "outputs": [
    {
     "data": {
      "text/plain": [
       "ID                            2164\n",
       "URL                           2164\n",
       "CRAWL_SOURCE                    13\n",
       "PROPERTY_TYPE                    5\n",
       "NEW_BUILD                        2\n",
       "DESCRIPTION                   1914\n",
       "IMAGES                        1947\n",
       "SURFACE                        454\n",
       "LAND_SURFACE                     2\n",
       "BALCONY_SURFACE                  0\n",
       "TERRACE_SURFACE                 18\n",
       "ROOM_COUNT                      11\n",
       "BEDROOM_COUNT                    7\n",
       "BATHROOM_COUNT                   0\n",
       "LUNCHROOM_COUNT                  0\n",
       "TOILET_COUNT                     0\n",
       "FURNISHED                        2\n",
       "FIREPLACE                        0\n",
       "AIR_CONDITIONING                 0\n",
       "GARDEN                           1\n",
       "SWIMMING_POOL                    1\n",
       "BALCONY                          0\n",
       "TERRACE                          1\n",
       "CELLAR                           0\n",
       "PARKING                          2\n",
       "PARKING_COUNT                    8\n",
       "HEATING_TYPES                    5\n",
       "HEATING_MODE                     3\n",
       "FLOOR                           12\n",
       "FLOOR_COUNT                     16\n",
       "CONSTRUCTION_YEAR               48\n",
       "ELEVATOR                         2\n",
       "CARETAKER                        2\n",
       "ENERGY_CONSUMPTION               0\n",
       "GREENHOUSE_GAS_CONSUMPTION       0\n",
       "MARKETING_TYPE                   2\n",
       "PRICE                          764\n",
       "PRICE_M2                       997\n",
       "PRICE_EVENTS                  1733\n",
       "RENTAL_EXPENSES                129\n",
       "RENTAL_EXPENSES_INCLUDED         2\n",
       "DEPOSIT                         44\n",
       "FEES                            71\n",
       "FEES_INCLUDED                    2\n",
       "EXCLUSIVE_MANDATE                2\n",
       "AGENCIES_UNWANTED                2\n",
       "OCCUPIED                         2\n",
       "DEALER_NAME                    553\n",
       "DEALER_TYPE                      3\n",
       "CITY_ID                          1\n",
       "CITY                             1\n",
       "ZIP_CODE                         1\n",
       "DEPT_CODE                        1\n",
       "PUBLICATION_START_DATE        2103\n",
       "PUBLICATION_END_DATE             0\n",
       "LAST_CRAWL_DATE               2164\n",
       "LAST_PRICE_DECREASE_DATE       145\n",
       "dtype: int64"
      ]
     },
     "execution_count": 5,
     "metadata": {},
     "output_type": "execute_result"
    }
   ],
   "source": [
    "df.nunique()"
   ]
  },
  {
   "cell_type": "code",
   "execution_count": 6,
   "metadata": {},
   "outputs": [
    {
     "data": {
      "text/plain": [
       "(2164, 57)"
      ]
     },
     "execution_count": 6,
     "metadata": {},
     "output_type": "execute_result"
    }
   ],
   "source": [
    "df.shape"
   ]
  },
  {
   "cell_type": "markdown",
   "metadata": {},
   "source": [
    "## Traitement des données"
   ]
  },
  {
   "cell_type": "markdown",
   "metadata": {},
   "source": [
    "\n",
    "Commencer par les étapes essentielles du traitement des données (Data Processing), en procédant aux étapes suivantes :\n",
    "\n",
    "1. Éliminer les colonnes non remplies ou ayant peu d'utilité.\n",
    "\n",
    "2. Identifier les colonnes de type liste/dictionnaire et les colonnes numériques.\n",
    "\n",
    "3. Remplir les valeurs manquantes (par exemple, FEES -> FEES_INCLUDED, RENTAL -> INCLUDED) et assurer la cohérence entre SURFACE, PRICE, PRICE_M2, PRICE_EVENT, et CRAWL_DATE.\n",
    "\n",
    "4. Compléter les valeurs manquantes dans la colonne DESCRIPTION."
   ]
  },
  {
   "cell_type": "markdown",
   "metadata": {},
   "source": [
    "### 1. Élimination des colonnes peu utiles\n",
    "\n",
    "Commençons par supprimer les colonnes qui ne contiennent aucune donnée :"
   ]
  },
  {
   "cell_type": "code",
   "execution_count": 7,
   "metadata": {},
   "outputs": [],
   "source": [
    "useless_cols = [cname for cname in df.columns if df[cname].nunique() ==0]\n"
   ]
  },
  {
   "cell_type": "markdown",
   "metadata": {},
   "source": [
    "ainsi que la colonne \"CRAWL_SOURCE\" :"
   ]
  },
  {
   "cell_type": "code",
   "execution_count": 8,
   "metadata": {},
   "outputs": [],
   "source": [
    "X = df.copy().drop(useless_cols, axis =1).drop([\"CRAWL_SOURCE\"], axis=1)"
   ]
  },
  {
   "cell_type": "markdown",
   "metadata": {},
   "source": [
    "Les colonnes qui ne contiennent qu'une seule valeur, telles que CITY, CITY_ID, ZIP_CODE, sont généralement peu informatives. Le même constat s'applique aux autres colonnes qui affichent également une unique valeur :"
   ]
  },
  {
   "cell_type": "code",
   "execution_count": 9,
   "metadata": {},
   "outputs": [
    {
     "name": "stdout",
     "output_type": "stream",
     "text": [
      "['GARDEN', 'SWIMMING_POOL', 'TERRACE', 'CITY_ID', 'CITY', 'ZIP_CODE', 'DEPT_CODE']\n"
     ]
    }
   ],
   "source": [
    "one_value_cols = [cname for cname in X.columns if X[cname].nunique() ==1]\n",
    "print(one_value_cols)"
   ]
  },
  {
   "cell_type": "markdown",
   "metadata": {},
   "source": [
    "**Dans le cadre de notre étude**, nous avons pris la décision de laisser de côté ces colonnes, même si certaines d'entre elles pourraient éventuellement être utiles en relation avec les colonnes images (bien que nous n'envisagions pas non plus de procéder à la visualisation des photos, comme cela sera expliqué ultérieurement)."
   ]
  },
  {
   "cell_type": "code",
   "execution_count": 10,
   "metadata": {},
   "outputs": [
    {
     "data": {
      "text/plain": [
       "(2164, 38)"
      ]
     },
     "execution_count": 10,
     "metadata": {},
     "output_type": "execute_result"
    }
   ],
   "source": [
    "X = X.drop(one_value_cols, axis=1)\n",
    "X.shape"
   ]
  },
  {
   "cell_type": "markdown",
   "metadata": {},
   "source": [
    "### 2.  Identification des colonnes de type liste et Rectification des types\n",
    "\n",
    "Il n'y a pas beaucoup de colonnes de type liste, nous pouvons les extraire en utilisant le module **json.loads**. Elles comprennent :"
   ]
  },
  {
   "cell_type": "code",
   "execution_count": 11,
   "metadata": {},
   "outputs": [
    {
     "data": {
      "text/plain": [
       "['URL', 'IMAGES', 'HEATING_TYPE', 'PRICE_EVENTS']"
      ]
     },
     "execution_count": 11,
     "metadata": {},
     "output_type": "execute_result"
    }
   ],
   "source": [
    "[\"URL\", \"IMAGES\", \"HEATING_TYPE\", \"PRICE_EVENTS\"]"
   ]
  },
  {
   "cell_type": "markdown",
   "metadata": {},
   "source": [
    "Certaines colonnes numériques, telles que \"FLOOR\", \"CONSTRUCTION_YEAR\", \"PARKING_COUNT\", etc., sont en réalité plutôt catégoriques. Nous avons tendance à les traiter comme des chaînes de caractères au lieu de les modifier. Nous corrigeons donc leur type :"
   ]
  },
  {
   "cell_type": "code",
   "execution_count": 12,
   "metadata": {},
   "outputs": [],
   "source": [
    "X[\"CONSTRUCTION_YEAR\"] = X[\"CONSTRUCTION_YEAR\"].astype('object')\n",
    "X[\"FLOOR\"] = X[\"FLOOR\"].astype('object')\n",
    "for cname in X.columns:\n",
    "    if \"COUNT\" in cname:\n",
    "        X[cname] = X[cname].astype('object')"
   ]
  },
  {
   "cell_type": "markdown",
   "metadata": {},
   "source": [
    "### 3. Cohérences entre certaines colonnes\n",
    "\n",
    "* RENTAL_EXPENSES, FEES\n",
    "\n",
    "Nous définissons \"True\" pour RENTAL_EXPENSES_INCLUDED et \"FEES_INCLUDED\" si le montant est effectivement indiqué dans les colonnes correspondantes :\n"
   ]
  },
  {
   "cell_type": "code",
   "execution_count": 13,
   "metadata": {},
   "outputs": [],
   "source": [
    "for i in X.index :\n",
    "    if pd.notnull(X.loc[i, \"RENTAL_EXPENSES\"]):\n",
    "        X.loc[i, \"RENTAL_EXPENSES_INCLUDED\"] = True\n",
    "    if pd.notnull(X.loc[i, \"FEES\"]):\n",
    "        X.loc[i, \"FEES_INCLUDED\"] = True"
   ]
  },
  {
   "cell_type": "markdown",
   "metadata": {},
   "source": [
    "Exemple : FEES_INCLUDED était à NaN alors que la valeur de FEES était bien renseignée pour l'annonce 115 :"
   ]
  },
  {
   "cell_type": "code",
   "execution_count": 14,
   "metadata": {},
   "outputs": [
    {
     "data": {
      "text/plain": [
       "(823.5, True)"
      ]
     },
     "execution_count": 14,
     "metadata": {},
     "output_type": "execute_result"
    }
   ],
   "source": [
    "X.loc[115, \"FEES\"], X.loc[115, \"FEES_INCLUDED\"]"
   ]
  },
  {
   "cell_type": "markdown",
   "metadata": {},
   "source": [
    "\n",
    "* SURFACE, PRICE, PRICE_M2, PRICE_EVENTS et DATES\n",
    "\n",
    "Les colonnes \"SURFACE\", \"PRICE\" et \"PRICE_M2\" de certaines entrées sont soit bien remplies, soit présentent un grand nombre de valeurs manquantes, ce qui rend leur restitution difficile :"
   ]
  },
  {
   "cell_type": "code",
   "execution_count": 15,
   "metadata": {},
   "outputs": [
    {
     "name": "stdout",
     "output_type": "stream",
     "text": [
      "[]\n"
     ]
    }
   ],
   "source": [
    "s = []\n",
    "for i in X.index:\n",
    "    k = pd.isnull(X.loc[i, \"SURFACE\"])+ pd.isnull(X.loc[i, \"PRICE\"]) + pd.isnull(X.loc[i, \"PRICE_M2\"])\n",
    "    if k == 1:\n",
    "        s.append(str(k))\n",
    "print(s)"
   ]
  },
  {
   "cell_type": "markdown",
   "metadata": {},
   "source": [
    "Heuresuement, les champs PRICE_EVENTS sont dûrement remplies :"
   ]
  },
  {
   "cell_type": "code",
   "execution_count": 16,
   "metadata": {},
   "outputs": [
    {
     "data": {
      "text/plain": [
       "False"
      ]
     },
     "execution_count": 16,
     "metadata": {},
     "output_type": "execute_result"
    }
   ],
   "source": [
    "X[\"PRICE_EVENTS\"].isnull().any()"
   ]
  },
  {
   "cell_type": "markdown",
   "metadata": {},
   "source": [
    "### Cohérence entre PRICE et PRICE_EVENTS: \n",
    "\n",
    "Les prix indiqués dans \"PRICE\" sont-ils correctement enregistrés dans \"PRICE_EVENTS\" ?"
   ]
  },
  {
   "cell_type": "code",
   "execution_count": 17,
   "metadata": {},
   "outputs": [
    {
     "data": {
      "text/plain": [
       "60"
      ]
     },
     "execution_count": 17,
     "metadata": {},
     "output_type": "execute_result"
    }
   ],
   "source": [
    "X[\"PRICE\"].isnull().sum()"
   ]
  },
  {
   "cell_type": "markdown",
   "metadata": {},
   "source": [
    "Nous identifions les annonces dont les valeurs de \"PRICE\" ne sont pas enregistrées dans \"PRICE_EVENTS\"."
   ]
  },
  {
   "cell_type": "code",
   "execution_count": 18,
   "metadata": {},
   "outputs": [
    {
     "name": "stdout",
     "output_type": "stream",
     "text": [
      "[65, 1113, 1258]\n"
     ]
    }
   ],
   "source": [
    "price_not_in_event = []\n",
    "price_good = 0\n",
    "for i in X.index:\n",
    "    price = X.loc[i, \"PRICE\"]\n",
    "    price_events = json.loads(X.loc[i, \"PRICE_EVENTS\"]) # list of dictionaries\n",
    "    price_list = [k[\"price\"] for k in price_events]\n",
    "    if pd.isnull(price) or (price in price_list):\n",
    "        pass\n",
    "    else:\n",
    "      price_not_in_event.append(i)\n",
    "print(price_not_in_event)"
   ]
  },
  {
   "cell_type": "markdown",
   "metadata": {},
   "source": [
    "Nous plaçons ici les prix dans \"PRICE_EVENTS\" en tenant compte de la \"LAST_CRAWL_DATE\"."
   ]
  },
  {
   "cell_type": "code",
   "execution_count": 19,
   "metadata": {},
   "outputs": [
    {
     "data": {
      "text/html": [
       "<div>\n",
       "<style scoped>\n",
       "    .dataframe tbody tr th:only-of-type {\n",
       "        vertical-align: middle;\n",
       "    }\n",
       "\n",
       "    .dataframe tbody tr th {\n",
       "        vertical-align: top;\n",
       "    }\n",
       "\n",
       "    .dataframe thead th {\n",
       "        text-align: right;\n",
       "    }\n",
       "</style>\n",
       "<table border=\"1\" class=\"dataframe\">\n",
       "  <thead>\n",
       "    <tr style=\"text-align: right;\">\n",
       "      <th></th>\n",
       "      <th>PRICE</th>\n",
       "      <th>PRICE_EVENTS</th>\n",
       "    </tr>\n",
       "  </thead>\n",
       "  <tbody>\n",
       "    <tr>\n",
       "      <th>65</th>\n",
       "      <td>48893.0</td>\n",
       "      <td>[{\"price\":48868.0,\"date\":\"2019-07-25\"}]</td>\n",
       "    </tr>\n",
       "    <tr>\n",
       "      <th>1113</th>\n",
       "      <td>29269.0</td>\n",
       "      <td>[{\"price\":72058.0,\"date\":\"2018-01-11\"},{\"price...</td>\n",
       "    </tr>\n",
       "    <tr>\n",
       "      <th>1258</th>\n",
       "      <td>1227200.0</td>\n",
       "      <td>[{\"price\":1180000.0,\"date\":\"2019-07-30\"},{\"pri...</td>\n",
       "    </tr>\n",
       "  </tbody>\n",
       "</table>\n",
       "</div>"
      ],
      "text/plain": [
       "          PRICE                                       PRICE_EVENTS\n",
       "65      48893.0            [{\"price\":48868.0,\"date\":\"2019-07-25\"}]\n",
       "1113    29269.0  [{\"price\":72058.0,\"date\":\"2018-01-11\"},{\"price...\n",
       "1258  1227200.0  [{\"price\":1180000.0,\"date\":\"2019-07-30\"},{\"pri..."
      ]
     },
     "execution_count": 19,
     "metadata": {},
     "output_type": "execute_result"
    }
   ],
   "source": [
    "X.loc[price_not_in_event, [\"PRICE\", \"PRICE_EVENTS\", ]]\n"
   ]
  },
  {
   "cell_type": "code",
   "execution_count": 20,
   "metadata": {},
   "outputs": [],
   "source": [
    "CRAWLDATE = pd.to_datetime(X[\"LAST_CRAWL_DATE\"], format='mixed').dt.date"
   ]
  },
  {
   "cell_type": "code",
   "execution_count": 21,
   "metadata": {},
   "outputs": [
    {
     "data": {
      "text/plain": [
       "'2017-04-21'"
      ]
     },
     "execution_count": 21,
     "metadata": {},
     "output_type": "execute_result"
    }
   ],
   "source": [
    "CRAWLDATE[0].strftime(\"%Y-%m-%d\")"
   ]
  },
  {
   "cell_type": "code",
   "execution_count": 22,
   "metadata": {},
   "outputs": [
    {
     "data": {
      "text/plain": [
       "[{'price': 48868.0, 'date': '2019-07-25'},\n",
       " {'price': 48893.0, 'date': '2019-08-14'}]"
      ]
     },
     "execution_count": 22,
     "metadata": {},
     "output_type": "execute_result"
    }
   ],
   "source": [
    "correct_price_events = []\n",
    "for i in price_not_in_event :\n",
    "    price = X.loc[i, \"PRICE\"]\n",
    "    crawl_date = CRAWLDATE[i].strftime(\"%Y-%m-%d\")\n",
    "    price_dict = {\"price\": price,\"date\":crawl_date}\n",
    "    event_list = json.loads(X.loc[i, \"PRICE_EVENTS\"]) + [price_dict]\n",
    "    correct_price_events += [event_list]\n",
    "\n",
    "correct_price_events[0]"
   ]
  },
  {
   "cell_type": "code",
   "execution_count": 23,
   "metadata": {},
   "outputs": [],
   "source": [
    "for i in range(len(price_not_in_event)):\n",
    "    X.loc[price_not_in_event[i], \"PRICE_EVENTS\"] = json.dumps(correct_price_events[i])"
   ]
  },
  {
   "cell_type": "markdown",
   "metadata": {},
   "source": [
    "Étant donné que nous nous assurons que la colonne \"PRICE_EVENTS\" contient les informations les plus récentes, certaines colonnes deviennent redondantes et sont donc retirées de notre étude :"
   ]
  },
  {
   "cell_type": "code",
   "execution_count": 24,
   "metadata": {},
   "outputs": [],
   "source": [
    "X = X.drop([\"PUBLICATION_START_DATE\", \"LAST_CRAWL_DATE\", \"PRICE\", \"LAST_PRICE_DECREASE_DATE\"], axis=1)"
   ]
  },
  {
   "cell_type": "markdown",
   "metadata": {},
   "source": [
    "### 4. DESCRIPTION\n",
    "\n",
    "On remplit les cellules vides avec fillna:"
   ]
  },
  {
   "cell_type": "code",
   "execution_count": 25,
   "metadata": {},
   "outputs": [
    {
     "data": {
      "text/plain": [
       "4"
      ]
     },
     "execution_count": 25,
     "metadata": {},
     "output_type": "execute_result"
    }
   ],
   "source": [
    "X['DESCRIPTION'].isnull().sum()"
   ]
  },
  {
   "cell_type": "code",
   "execution_count": 26,
   "metadata": {},
   "outputs": [],
   "source": [
    "X['DESCRIPTION'] = X['DESCRIPTION'].fillna('0')"
   ]
  },
  {
   "cell_type": "markdown",
   "metadata": {},
   "source": [
    "## Classification des colonnes caractéristiques et de leur fiabilité\n",
    "\n",
    "Dans cette section, nous allons discuter des colonnes caractéristiques, de leurs types et de leur fiabilité. Commençons par les connaître :"
   ]
  },
  {
   "cell_type": "code",
   "execution_count": 27,
   "metadata": {},
   "outputs": [
    {
     "data": {
      "text/plain": [
       "Index(['ID', 'URL', 'PROPERTY_TYPE', 'NEW_BUILD', 'DESCRIPTION', 'IMAGES',\n",
       "       'SURFACE', 'LAND_SURFACE', 'TERRACE_SURFACE', 'ROOM_COUNT',\n",
       "       'BEDROOM_COUNT', 'FURNISHED', 'PARKING', 'PARKING_COUNT',\n",
       "       'HEATING_TYPES', 'HEATING_MODE', 'FLOOR', 'FLOOR_COUNT',\n",
       "       'CONSTRUCTION_YEAR', 'ELEVATOR', 'CARETAKER', 'MARKETING_TYPE',\n",
       "       'PRICE_M2', 'PRICE_EVENTS', 'RENTAL_EXPENSES',\n",
       "       'RENTAL_EXPENSES_INCLUDED', 'DEPOSIT', 'FEES', 'FEES_INCLUDED',\n",
       "       'EXCLUSIVE_MANDATE', 'AGENCIES_UNWANTED', 'OCCUPIED', 'DEALER_NAME',\n",
       "       'DEALER_TYPE'],\n",
       "      dtype='object')"
      ]
     },
     "execution_count": 27,
     "metadata": {},
     "output_type": "execute_result"
    }
   ],
   "source": [
    "X.columns"
   ]
  },
  {
   "cell_type": "code",
   "execution_count": 28,
   "metadata": {},
   "outputs": [
    {
     "data": {
      "text/plain": [
       "34"
      ]
     },
     "execution_count": 28,
     "metadata": {},
     "output_type": "execute_result"
    }
   ],
   "source": [
    "len(X.columns)"
   ]
  },
  {
   "cell_type": "code",
   "execution_count": 29,
   "metadata": {},
   "outputs": [
    {
     "data": {
      "text/plain": [
       "ID                           object\n",
       "URL                          object\n",
       "PROPERTY_TYPE                object\n",
       "NEW_BUILD                    object\n",
       "DESCRIPTION                  object\n",
       "IMAGES                       object\n",
       "SURFACE                     float64\n",
       "LAND_SURFACE                float64\n",
       "TERRACE_SURFACE             float64\n",
       "ROOM_COUNT                   object\n",
       "BEDROOM_COUNT                object\n",
       "FURNISHED                    object\n",
       "PARKING                        bool\n",
       "PARKING_COUNT                object\n",
       "HEATING_TYPES                object\n",
       "HEATING_MODE                 object\n",
       "FLOOR                        object\n",
       "FLOOR_COUNT                  object\n",
       "CONSTRUCTION_YEAR            object\n",
       "ELEVATOR                     object\n",
       "CARETAKER                    object\n",
       "MARKETING_TYPE               object\n",
       "PRICE_M2                    float64\n",
       "PRICE_EVENTS                 object\n",
       "RENTAL_EXPENSES             float64\n",
       "RENTAL_EXPENSES_INCLUDED     object\n",
       "DEPOSIT                     float64\n",
       "FEES                        float64\n",
       "FEES_INCLUDED                object\n",
       "EXCLUSIVE_MANDATE              bool\n",
       "AGENCIES_UNWANTED            object\n",
       "OCCUPIED                     object\n",
       "DEALER_NAME                  object\n",
       "DEALER_TYPE                  object\n",
       "dtype: object"
      ]
     },
     "execution_count": 29,
     "metadata": {},
     "output_type": "execute_result"
    }
   ],
   "source": [
    "X.dtypes"
   ]
  },
  {
   "cell_type": "markdown",
   "metadata": {},
   "source": [
    "### Colonnes \"ID\", \"URL\" et \"IMAGES\" :\n",
    "\n",
    "* \"ID\" : Nous utilisons \"ID\" pour générer les clés de regroupement. Nous vérifions si chaque annonce a un \"ID\" différent.\n",
    "* \"URL\" : De nature similaire à \"ID\"."
   ]
  },
  {
   "cell_type": "code",
   "execution_count": 30,
   "metadata": {},
   "outputs": [
    {
     "data": {
      "text/plain": [
       "(True, True)"
      ]
     },
     "execution_count": 30,
     "metadata": {},
     "output_type": "execute_result"
    }
   ],
   "source": [
    "X[\"ID\"].nunique() == len(X.index),  X[\"URL\"].nunique() == len(X.index)"
   ]
  },
  {
   "cell_type": "code",
   "execution_count": 31,
   "metadata": {},
   "outputs": [],
   "source": [
    "id_cols = [\"ID\", \"URL\"]"
   ]
  },
  {
   "cell_type": "markdown",
   "metadata": {},
   "source": [
    "*    \"IMAGES\" : Il est très probable que deux annonces se rapportent au même bien immobilier si leurs liens \"IMAGES\" ont une intersection non nulle. \n",
    "\n",
    "Cependant, certaines annonces ne contiennent qu'une image de type publicité, par exemple :"
   ]
  },
  {
   "cell_type": "code",
   "execution_count": 32,
   "metadata": {},
   "outputs": [],
   "source": [
    "image_cols = [\"IMAGES\"]"
   ]
  },
  {
   "cell_type": "code",
   "execution_count": 33,
   "metadata": {},
   "outputs": [
    {
     "data": {
      "text/plain": [
       "('[\"https://v.seloger.com/s/cdn/x/visuels/1/r/y/p/1ryphs9d2l7xv8w1s80a8t7csl6d49ed62tw60lic.jpg\"]',\n",
       " '[\"https://v.seloger.com/s/cdn/x/visuels/1/r/y/p/1ryphs9d2l7xv8w1s80a8t7csl6d49ed62tw60lic.jpg\"]')"
      ]
     },
     "execution_count": 33,
     "metadata": {},
     "output_type": "execute_result"
    }
   ],
   "source": [
    "X.loc[26, \"IMAGES\"], X.loc[687, \"IMAGES\"]"
   ]
  },
  {
   "cell_type": "markdown",
   "metadata": {},
   "source": [
    "### Colonne Description :\n",
    "\n",
    "Nous allons utiliser un modèle de langage pour traiter les descriptions des annonces. Nous détaillerons cela ultérieurement :"
   ]
  },
  {
   "cell_type": "code",
   "execution_count": 34,
   "metadata": {},
   "outputs": [],
   "source": [
    "desc_cols = [\"DESCRIPTION\"]"
   ]
  },
  {
   "cell_type": "markdown",
   "metadata": {},
   "source": [
    "### Colonnes Catégoriques :\n",
    "\n",
    "* Colonnes Booléennes : Certaines colonnes sont de nature booléenne, et nous pouvons comparer les valeurs associées une par une :"
   ]
  },
  {
   "cell_type": "code",
   "execution_count": 35,
   "metadata": {},
   "outputs": [
    {
     "name": "stdout",
     "output_type": "stream",
     "text": [
      "['NEW_BUILD', 'FURNISHED', 'PARKING', 'ELEVATOR', 'CARETAKER', 'MARKETING_TYPE', 'RENTAL_EXPENSES_INCLUDED', 'FEES_INCLUDED', 'EXCLUSIVE_MANDATE', 'AGENCIES_UNWANTED', 'OCCUPIED']\n",
      "11\n"
     ]
    }
   ],
   "source": [
    "bool_cols = [cname for cname in X.columns if (X[cname].nunique() == 2) and (X[cname].dtype in ['bool', 'boolean', 'object'])]\n",
    "print(bool_cols)\n",
    "print(len(bool_cols))"
   ]
  },
  {
   "cell_type": "markdown",
   "metadata": {},
   "source": [
    "**Contre-exemple :** Dans un premier coup, il semblait que ce sont de bons indicateurs pour déterminer si deux annonces sont associées à **différents** biens immobiliers. Malheureusement, nous avons repéré certaines anomalies, par exemple, dans la colonne \"EXCLUSIVE_MANDATE\" :"
   ]
  },
  {
   "cell_type": "code",
   "execution_count": 36,
   "metadata": {},
   "outputs": [
    {
     "data": {
      "text/plain": [
       "58      True\n",
       "762    False\n",
       "Name: EXCLUSIVE_MANDATE, dtype: bool"
      ]
     },
     "execution_count": 36,
     "metadata": {},
     "output_type": "execute_result"
    }
   ],
   "source": [
    "X.loc[[58, 762], \"EXCLUSIVE_MANDATE\"]"
   ]
  },
  {
   "cell_type": "markdown",
   "metadata": {},
   "source": [
    "Cependant, en examinant d'autres colonnes et leurs descriptions, il est apparu que les annonces 58 et 762 sont presque identiques, y compris leurs descriptions..."
   ]
  },
  {
   "cell_type": "code",
   "execution_count": 37,
   "metadata": {},
   "outputs": [
    {
     "name": "stdout",
     "output_type": "stream",
     "text": [
      "ID                          2\n",
      "URL                         2\n",
      "PROPERTY_TYPE               1\n",
      "NEW_BUILD                   1\n",
      "DESCRIPTION                 2\n",
      "IMAGES                      1\n",
      "SURFACE                     1\n",
      "LAND_SURFACE                0\n",
      "TERRACE_SURFACE             0\n",
      "ROOM_COUNT                  1\n",
      "BEDROOM_COUNT               1\n",
      "FURNISHED                   0\n",
      "PARKING                     1\n",
      "PARKING_COUNT               0\n",
      "HEATING_TYPES               1\n",
      "HEATING_MODE                1\n",
      "FLOOR                       1\n",
      "FLOOR_COUNT                 1\n",
      "CONSTRUCTION_YEAR           1\n",
      "ELEVATOR                    1\n",
      "CARETAKER                   1\n",
      "MARKETING_TYPE              1\n",
      "PRICE_M2                    1\n",
      "PRICE_EVENTS                2\n",
      "RENTAL_EXPENSES             0\n",
      "RENTAL_EXPENSES_INCLUDED    0\n",
      "DEPOSIT                     0\n",
      "FEES                        0\n",
      "FEES_INCLUDED               1\n",
      "EXCLUSIVE_MANDATE           2\n",
      "AGENCIES_UNWANTED           0\n",
      "OCCUPIED                    1\n",
      "DEALER_NAME                 1\n",
      "DEALER_TYPE                 1\n",
      "dtype: int64\n",
      "58     LEVALLOIS / GREFFULHE Dans un immeuble récent ...\n",
      "762    LEVALLOIS / GREFFULHE Dans un immeuble récent ...\n",
      "Name: DESCRIPTION, dtype: object\n"
     ]
    }
   ],
   "source": [
    "print(X.loc[[58, 762], :].nunique()), \n",
    "print(X.loc[ [58, 762], \"DESCRIPTION\"])"
   ]
  },
  {
   "cell_type": "markdown",
   "metadata": {},
   "source": [
    "* Colonnes de type liste :\n",
    "Nous extrairons les valeurs de ces colonnes en utilisant json.loads :"
   ]
  },
  {
   "cell_type": "code",
   "execution_count": 38,
   "metadata": {},
   "outputs": [],
   "source": [
    "list_cols = [\"HEATING_TYPES\", \"PRICE_EVENTS\"]"
   ]
  },
  {
   "cell_type": "markdown",
   "metadata": {},
   "source": [
    "* Colonnes de type objet : "
   ]
  },
  {
   "cell_type": "code",
   "execution_count": 39,
   "metadata": {},
   "outputs": [
    {
     "name": "stdout",
     "output_type": "stream",
     "text": [
      "10 ['PROPERTY_TYPE', 'ROOM_COUNT', 'BEDROOM_COUNT', 'PARKING_COUNT', 'HEATING_MODE', 'FLOOR', 'FLOOR_COUNT', 'CONSTRUCTION_YEAR', 'DEALER_NAME', 'DEALER_TYPE']\n"
     ]
    }
   ],
   "source": [
    "object_cols = [cname for cname in X.columns if (cname not in bool_cols + list_cols + id_cols + image_cols + desc_cols) and (X[cname].dtype in ['object'])]\n",
    "print(len(object_cols), object_cols)"
   ]
  },
  {
   "cell_type": "code",
   "execution_count": 40,
   "metadata": {},
   "outputs": [],
   "source": [
    "categorical_cols = bool_cols + object_cols"
   ]
  },
  {
   "cell_type": "markdown",
   "metadata": {},
   "source": [
    "### Colonnes Numériques :"
   ]
  },
  {
   "cell_type": "code",
   "execution_count": 41,
   "metadata": {},
   "outputs": [
    {
     "name": "stdout",
     "output_type": "stream",
     "text": [
      "7 ['SURFACE', 'LAND_SURFACE', 'TERRACE_SURFACE', 'PRICE_M2', 'RENTAL_EXPENSES', 'DEPOSIT', 'FEES']\n"
     ]
    }
   ],
   "source": [
    "numeric_cols  = [cname for cname in X.columns if X[cname].dtype in ['int64', 'float64']]\n",
    "print(len(numeric_cols), numeric_cols)"
   ]
  },
  {
   "cell_type": "markdown",
   "metadata": {},
   "source": [
    "### Regroupement des colonnes caractéristiques :"
   ]
  },
  {
   "cell_type": "code",
   "execution_count": 42,
   "metadata": {},
   "outputs": [
    {
     "name": "stdout",
     "output_type": "stream",
     "text": [
      "34 Index(['ID', 'URL', 'PROPERTY_TYPE', 'NEW_BUILD', 'DESCRIPTION', 'IMAGES',\n",
      "       'SURFACE', 'LAND_SURFACE', 'TERRACE_SURFACE', 'ROOM_COUNT',\n",
      "       'BEDROOM_COUNT', 'FURNISHED', 'PARKING', 'PARKING_COUNT',\n",
      "       'HEATING_TYPES', 'HEATING_MODE', 'FLOOR', 'FLOOR_COUNT',\n",
      "       'CONSTRUCTION_YEAR', 'ELEVATOR', 'CARETAKER', 'MARKETING_TYPE',\n",
      "       'PRICE_M2', 'PRICE_EVENTS', 'RENTAL_EXPENSES',\n",
      "       'RENTAL_EXPENSES_INCLUDED', 'DEPOSIT', 'FEES', 'FEES_INCLUDED',\n",
      "       'EXCLUSIVE_MANDATE', 'AGENCIES_UNWANTED', 'OCCUPIED', 'DEALER_NAME',\n",
      "       'DEALER_TYPE'],\n",
      "      dtype='object')\n"
     ]
    }
   ],
   "source": [
    "print(len(X.columns), X.columns)"
   ]
  },
  {
   "cell_type": "code",
   "execution_count": 43,
   "metadata": {},
   "outputs": [
    {
     "data": {
      "text/plain": [
       "<Axes: title={'center': 'Colonnes Caractéristiques'}, ylabel='Nb de colonnes'>"
      ]
     },
     "execution_count": 43,
     "metadata": {},
     "output_type": "execute_result"
    },
    {
     "data": {
      "image/png": "[encoded data removed]",
      "text/plain": [
       "<Figure size 640x480 with 1 Axes>"
      ]
     },
     "metadata": {},
     "output_type": "display_data"
    }
   ],
   "source": [
    "categorical_cols = bool_cols + object_cols \n",
    "\n",
    "plt.title(\"Colonnes Caractéristiques\")\n",
    "plt.ylabel(\"Nb de colonnes\")\n",
    "sns.barplot(x= ['Image', 'List', 'Description', 'Categorical', 'Numeric'], y = [len(image_cols), len(list_cols), len(desc_cols), len(categorical_cols), len(numeric_cols) ], )\n"
   ]
  },
  {
   "cell_type": "markdown",
   "metadata": {},
   "source": [
    "## Similarités entre les annonces immobilières :\n",
    "\n",
    "### Comparaison entre les liens images : \n",
    "\n",
    "Nous considérons que deux annonces sont associées au même bien immobilier si :\n",
    "\n",
    "- \"IMAGES\" : Leurs liens images ont une intersection non nulle, et en plus, nous imposons qu'ils partagent au moins 2 liens en commun pour éviter le cas des photos publicitaires (voir l'exemple des annonces 26 et 687).\n",
    "\n",
    "**Remarques :** Puisque certains liens d'images, par exemple ceux du LE BON COIN 14, ne sont plus accessibles, nous nous contentons de comparer les liens au lieu de visualiser leurs photos contenues."
   ]
  },
  {
   "cell_type": "code",
   "execution_count": 44,
   "metadata": {},
   "outputs": [],
   "source": [
    "def common_links(a, b):\n",
    "    a_set = set(a)\n",
    "    b_set = set(b)\n",
    "    if len(a_set.intersection(b_set))>=2:\n",
    "        return True\n",
    "    else:\n",
    "        return False"
   ]
  },
  {
   "cell_type": "code",
   "execution_count": 45,
   "metadata": {},
   "outputs": [],
   "source": [
    "def compare_image(df, icols, i, j):\n",
    "    for k in icols:\n",
    "        i_links = json.loads(df.loc[i, k])\n",
    "        j_links = json.loads(df.loc[j, k])\n",
    "        return common_links(i_links, j_links)\n",
    "    "
   ]
  },
  {
   "cell_type": "markdown",
   "metadata": {},
   "source": [
    "Exemples :"
   ]
  },
  {
   "cell_type": "code",
   "execution_count": 46,
   "metadata": {},
   "outputs": [
    {
     "data": {
      "text/plain": [
       "(False, True)"
      ]
     },
     "execution_count": 46,
     "metadata": {},
     "output_type": "execute_result"
    }
   ],
   "source": [
    "compare_image(X, image_cols, 26, 687), compare_image(X, image_cols, 3, 85)"
   ]
  },
  {
   "cell_type": "code",
   "execution_count": 47,
   "metadata": {},
   "outputs": [
    {
     "name": "stdout",
     "output_type": "stream",
     "text": [
      "[3, 85, 493, 1119, 1548, 1845, 1866]\n"
     ]
    }
   ],
   "source": [
    "output = []\n",
    "for j in X.index:\n",
    "    if compare_image(X, image_cols, 3, j):\n",
    "        output.append(j)\n",
    "\n",
    "print(output)"
   ]
  },
  {
   "cell_type": "code",
   "execution_count": 48,
   "metadata": {},
   "outputs": [
    {
     "data": {
      "text/plain": [
       "['https://pix.yanport.com/ads/e9e07ed0-812f-11e8-82aa-61eacebe4584/image_fc7d9181f6042f4a630c7fdbc9f40ba3.jpg',\n",
       " 'https://v.seloger.com/s/width/800/visuels/1/j/4/5/1j4582b04i58fwekzdtgiu20uqw3a640e7w3papd4.jpg',\n",
       " 'https://v.seloger.com/s/width/800/visuels/1/y/c/d/1ycdcnohlrp0qttlt6edgfs4cjajfz8nmo02ox7fs.jpg',\n",
       " 'https://v.seloger.com/s/width/800/visuels/1/p/0/1/1p01zgt2uxdey4rb322p2lk8iq17l1c8w1ukk6bjc.jpg',\n",
       " 'https://v.seloger.com/s/width/800/visuels/0/g/d/o/0gdod5pizzrepy7g3gi4h4aq4b34ycr2lq6do10bs.jpg',\n",
       " 'https://v.seloger.com/s/width/800/visuels/2/0/o/g/20ogztaombstv4wfenyhqgj3r906mur2vbbvp70jw.jpg']"
      ]
     },
     "execution_count": 48,
     "metadata": {},
     "output_type": "execute_result"
    }
   ],
   "source": [
    "json.loads(X.loc[3, \"IMAGES\"])"
   ]
  },
  {
   "cell_type": "code",
   "execution_count": 49,
   "metadata": {},
   "outputs": [
    {
     "data": {
      "text/plain": [
       "['https://pix.yanport.com/ads/ac3439f0-812f-11e8-82aa-61eacebe4584/image_685502e001f0730593f66ff91b4f1c1a.jpg',\n",
       " 'https://v.seloger.com/s/width/800/visuels/1/p/0/1/1p01zgt2uxdey4rb322p2lk8iq17l1c8w1ukk6bjc.jpg',\n",
       " 'https://v.seloger.com/s/width/800/visuels/1/y/c/d/1ycdcnohlrp0qttlt6edgfs4cjajfz8nmo02ox7fs.jpg',\n",
       " 'https://v.seloger.com/s/width/800/visuels/0/g/d/o/0gdod5pizzrepy7g3gi4h4aq4b34ycr2lq6do10bs.jpg',\n",
       " 'https://v.seloger.com/s/width/800/visuels/1/n/1/y/1n1ycskv7p348kabig6p2bbnz4kwo3umpscyhdr6w.jpg',\n",
       " 'https://v.seloger.com/s/width/800/visuels/1/j/4/5/1j4582b04i58fwekzdtgiu20uqw3a640e7w3papd4.jpg',\n",
       " 'https://v.seloger.com/s/width/800/visuels/2/0/o/g/20ogztaombstv4wfenyhqgj3r906mur2vbbvp70jw.jpg']"
      ]
     },
     "execution_count": 49,
     "metadata": {},
     "output_type": "execute_result"
    }
   ],
   "source": [
    "json.loads(X.loc[85, \"IMAGES\"])"
   ]
  },
  {
   "cell_type": "markdown",
   "metadata": {},
   "source": [
    "### Comparaison des textes des descriptions :\n",
    "\n",
    "Nous utilisons un modèle de langage de base SentenceTransformer. Tout d'abord, nous calculons les longueurs maximales des descriptions :"
   ]
  },
  {
   "cell_type": "code",
   "execution_count": 50,
   "metadata": {},
   "outputs": [
    {
     "name": "stdout",
     "output_type": "stream",
     "text": [
      "[]\n"
     ]
    }
   ],
   "source": [
    "max_length =0\n",
    "for i in X.index:\n",
    "    desc = X.loc[i, \"DESCRIPTION\"]\n",
    "    max_length = max(max_length, len(desc))\n",
    "print(s)\n",
    "\n",
    "model = CrossEncoder('dangvantuan/CrossEncoder-camembert-large', max_length=max_length)"
   ]
  },
  {
   "cell_type": "markdown",
   "metadata": {},
   "source": [
    "Limité par le modèle et la puissance de mon propre ordinateur portable, nous choisissons ici de prendre en compte seulement des 800 premiers caractères pour estimer les similarités entre deux textes."
   ]
  },
  {
   "cell_type": "code",
   "execution_count": 51,
   "metadata": {},
   "outputs": [],
   "source": [
    "def compare_desc(df, dcols, i, j):\n",
    "    df[\"DESCRIPTION\"].astype('string')\n",
    "    i_desc = str(df.loc[i, \"DESCRIPTION\"]).lower()[0:800]\n",
    "    j_desc = str(df.loc[j, \"DESCRIPTION\"]).lower()[0:800]\n",
    "    return  (model.predict([i_desc, j_desc]))\n"
   ]
  },
  {
   "cell_type": "markdown",
   "metadata": {},
   "source": [
    "Les exemples avec les annonces (26, 687) et (58, 762) :"
   ]
  },
  {
   "cell_type": "code",
   "execution_count": 52,
   "metadata": {},
   "outputs": [
    {
     "data": {
      "text/plain": [
       "(0.43317997, 0.9946484)"
      ]
     },
     "execution_count": 52,
     "metadata": {},
     "output_type": "execute_result"
    }
   ],
   "source": [
    "compare_desc(X, desc_cols, 26, 687), compare_desc(X, desc_cols, 58, 762)"
   ]
  },
  {
   "cell_type": "markdown",
   "metadata": {},
   "source": [
    "\n",
    "### Comparaison des colonnes catégoriques :\n",
    "\n",
    "Nous considérons que deux annonces ne sont pas associées au même bien immobilier s'il y a plus de **deux** valeurs distinctes dans les colonnes catégoriques."
   ]
  },
  {
   "cell_type": "code",
   "execution_count": 53,
   "metadata": {},
   "outputs": [],
   "source": [
    "def compare_cat(df, ccols, i, j): \n",
    "    i_list = df.loc[i, ccols].to_list()\n",
    "    j_list = df.loc[j, ccols].to_list()\n",
    "    result =0\n",
    "    k = 0 # compteur des comparaisons valables\n",
    "    while (result <= 1) and (k<len(ccols)):\n",
    "        i_k = i_list[k]\n",
    "        j_k = j_list[k]\n",
    "        if not pd.isnull(i_k) and not pd.isnull(j_k):\n",
    "            result += (i_k != j_k)\n",
    "        k += 1\n",
    "\n",
    "    return (result <=1)"
   ]
  },
  {
   "cell_type": "markdown",
   "metadata": {},
   "source": [
    "Encore les fameux exemples avec (26, 687) et (58, 762) :"
   ]
  },
  {
   "cell_type": "code",
   "execution_count": 54,
   "metadata": {},
   "outputs": [
    {
     "data": {
      "text/plain": [
       "(False, True)"
      ]
     },
     "execution_count": 54,
     "metadata": {},
     "output_type": "execute_result"
    }
   ],
   "source": [
    "compare_cat(X, categorical_cols, 26, 687), compare_cat(X, categorical_cols, 58, 762),"
   ]
  },
  {
   "cell_type": "markdown",
   "metadata": {},
   "source": [
    "### Comparaison des colonnes numériques et listes"
   ]
  },
  {
   "cell_type": "code",
   "execution_count": 55,
   "metadata": {},
   "outputs": [
    {
     "name": "stdout",
     "output_type": "stream",
     "text": [
      "['HEATING_TYPES', 'PRICE_EVENTS'] ['SURFACE', 'LAND_SURFACE', 'TERRACE_SURFACE', 'PRICE_M2', 'RENTAL_EXPENSES', 'DEPOSIT', 'FEES']\n"
     ]
    }
   ],
   "source": [
    "print(list_cols, numeric_cols)"
   ]
  },
  {
   "cell_type": "code",
   "execution_count": 56,
   "metadata": {},
   "outputs": [],
   "source": [
    "def compare_list(df, lcols, i, j):\n",
    "    i_heat = set(json.loads(df.loc[i, \"HEATING_TYPES\"]))\n",
    "    j_heat = set(json.loads(df.loc[j, \"HEATING_TYPES\"]))\n",
    "    if not (i_heat.issubset(j_heat) or j_heat.issubset(i_heat)):\n",
    "        return False\n",
    "    else: \n",
    "        i_price_ev= json.loads(df.loc[i, \"PRICE_EVENTS\"])\n",
    "        j_price_ev = json.loads(df.loc[j, \"PRICE_EVENTS\"])\n",
    "\n",
    "        i_price = i_price_ev[-1]['price']\n",
    "        j_price = j_price_ev[-1]['price']\n",
    "        return (abs(i_price - j_price) <5)"
   ]
  },
  {
   "cell_type": "code",
   "execution_count": 57,
   "metadata": {},
   "outputs": [
    {
     "data": {
      "text/plain": [
       "(False, True)"
      ]
     },
     "execution_count": 57,
     "metadata": {},
     "output_type": "execute_result"
    }
   ],
   "source": [
    "compare_list(X, list_cols, 26, 687), compare_cat(X, list_cols, 58, 762),"
   ]
  },
  {
   "cell_type": "code",
   "execution_count": 58,
   "metadata": {},
   "outputs": [],
   "source": [
    "def compare_num(df, ncols, i, j):\n",
    "    criteria = 0 \n",
    "    k = 0 # compteur des comparisons valables\n",
    "\n",
    "    # SURFACE\n",
    "    i_surf = df.loc[i, \"SURFACE\"]\n",
    "    j_surf = df.loc[j, \"SURFACE\"]\n",
    "    if pd.notnull(i_surf) and pd.notnull(j_surf):\n",
    "        criteria += (abs(i_surf - j_surf) <= 1)\n",
    "        k+= 1\n",
    "\n",
    "    # LAND SURFACE \n",
    "    i_land = df.loc[i, \"LAND_SURFACE\"]\n",
    "    j_land = df.loc[j, \"LAND_SURFACE\"]\n",
    "    if pd.notnull(i_land) and pd.notnull(j_land):\n",
    "        criteria += (abs(i_land - j_land) <= 1)\n",
    "        k+= 1\n",
    "\n",
    "    # TERRACE SURFACE\n",
    "    i_terrace = df.loc[i, \"TERRACE_SURFACE\"]\n",
    "    j_terrace = df.loc[j, \"TERRACE_SURFACE\"]\n",
    "    if pd.notnull(i_terrace) and pd.notnull(j_terrace):\n",
    "        criteria += (abs(i_terrace - j_terrace) <= 1)\n",
    "        k+= 1\n",
    "\n",
    "    # PRICE M2\n",
    "    i_pricem2 = df.loc[i, \"PRICE_M2\"]\n",
    "    j_pricem2 = df.loc[j, \"PRICE_M2\"]\n",
    "    if pd.notnull(i_pricem2) and pd.notnull(j_pricem2):\n",
    "        criteria += (abs(i_pricem2 - j_pricem2) <= 5)\n",
    "        k+= 1\n",
    "    \n",
    "    # RENTAL_EXPENSES\n",
    "    i_rent = df.loc[i, \"RENTAL_EXPENSES\"]\n",
    "    j_rent = df.loc[j, \"RENTAL_EXPENSES\"]\n",
    "    if pd.notnull(i_rent) and pd.notnull(j_rent):\n",
    "        criteria += (abs(i_rent - j_rent) <= 5)\n",
    "        k+= 1\n",
    "\n",
    "\n",
    "    # FEES\n",
    "    i_fees = df.loc[i, \"FEES\"]\n",
    "    j_fees = df.loc[j, \"FEES\"]\n",
    "    if pd.notnull(i_fees) and pd.notnull(j_fees):\n",
    "        criteria += (abs(i_fees - j_fees) <= 5)\n",
    "        k+= 1\n",
    "\n",
    "    # DEPOSIT \n",
    "    i_deposit = df.loc[i, \"DEPOSIT\"]\n",
    "    j_deposit = df.loc[j, \"DEPOSIT\"]\n",
    "    if pd.notnull(i_deposit) and pd.notnull(j_deposit):\n",
    "        criteria += (abs(i_deposit - j_deposit) <= 5)\n",
    "        k+= 1\n",
    "\n",
    "\n",
    "    return (criteria > (k/2)) # retourner true si la moitié de comparaisons valables sont true\n",
    "    "
   ]
  },
  {
   "cell_type": "markdown",
   "metadata": {},
   "source": [
    "Exemples :"
   ]
  },
  {
   "cell_type": "code",
   "execution_count": 59,
   "metadata": {},
   "outputs": [
    {
     "data": {
      "text/plain": [
       "(False, True)"
      ]
     },
     "execution_count": 59,
     "metadata": {},
     "output_type": "execute_result"
    }
   ],
   "source": [
    "compare_num(X, numeric_cols, 26, 687), compare_num(X, numeric_cols, 58, 762),"
   ]
  },
  {
   "cell_type": "markdown",
   "metadata": {},
   "source": [
    "## Création des clés de regroupement\n",
    "\n",
    "Nous disposons maintenant de toutes les fonctions de critères/comparaisons et nous sommes en mesure de regrouper les annonces qui se rapportent au même bien immobilier."
   ]
  },
  {
   "cell_type": "code",
   "execution_count": 60,
   "metadata": {},
   "outputs": [],
   "source": [
    "def same_real_estate(df, icols, dcols, ccols, lcols, ncols, i, j):\n",
    "    if compare_image(df, icols, i, j):\n",
    "        return True\n",
    "    elif compare_cat(df, ccols, i, j): \n",
    "        if compare_list(df, lcols, i, j) and compare_num(df, ncols, i, j):\n",
    "            return (compare_desc(df, dcols, i, j) >= 0.85)\n",
    "    else:\n",
    "        return False"
   ]
  },
  {
   "cell_type": "markdown",
   "metadata": {},
   "source": [
    "Nous soulignons que l'on  compare les descriptions texte seulement au moment où nous n'arrivons pas à distincter deux annonces avec les autres colonnes caractéristiques. Nous mettre le seuil **0.85** pour dire comme quoi 2 annonces sont associées au même bien immobilier, mais ce choix du seuil n'est pas impartial. Nous revenons à ce seuil à la fin, et nous discuterons des possibilités pour rendre ce choix plus neutre et objectif."
   ]
  },
  {
   "cell_type": "code",
   "execution_count": 61,
   "metadata": {},
   "outputs": [
    {
     "data": {
      "text/plain": [
       "True"
      ]
     },
     "execution_count": 61,
     "metadata": {},
     "output_type": "execute_result"
    }
   ],
   "source": [
    "same_real_estate(X, image_cols, desc_cols, categorical_cols, list_cols, numeric_cols, 3, 85)"
   ]
  },
  {
   "cell_type": "code",
   "execution_count": 62,
   "metadata": {},
   "outputs": [
    {
     "data": {
      "text/plain": [
       "False"
      ]
     },
     "execution_count": 62,
     "metadata": {},
     "output_type": "execute_result"
    }
   ],
   "source": [
    "\n",
    "same_real_estate(X, image_cols, desc_cols, categorical_cols, list_cols, numeric_cols, 26, 687)"
   ]
  },
  {
   "cell_type": "code",
   "execution_count": 63,
   "metadata": {},
   "outputs": [
    {
     "data": {
      "text/plain": [
       "True"
      ]
     },
     "execution_count": 63,
     "metadata": {},
     "output_type": "execute_result"
    }
   ],
   "source": [
    "same_real_estate(X, image_cols, desc_cols, categorical_cols, list_cols, numeric_cols, 58, 762)"
   ]
  },
  {
   "cell_type": "markdown",
   "metadata": {},
   "source": [
    "Enfin, nous exécutons une boucle for : pour chaque annonce, si la clé n'a pas encore été attribuée, nous utilisons son \"ID\" comme clé et examinons si les annonces ultérieures sont associée au même bien immobilier."
   ]
  },
  {
   "cell_type": "code",
   "execution_count": 64,
   "metadata": {},
   "outputs": [],
   "source": [
    "def df_with_keys(df = X, icols = image_cols, dcols = desc_cols, ccols = categorical_cols, lcols = list_cols, ncols = numeric_cols): \n",
    "    Y = df.copy()\n",
    "    Y['KEY'] = pd.Series(dtype='object')\n",
    "    for i in Y.index : \n",
    "        if pd.isnull(Y.loc[i, 'KEY']):\n",
    "            Y.loc[i, 'KEY'] = Y.loc[i, 'ID']\n",
    "            for j in range(i+1, len(Y.index)) :\n",
    "                if same_real_estate(df, icols, dcols, ccols, lcols, ncols, i, j):\n",
    "                    Y.loc[j, 'KEY'] = Y.loc[i, 'KEY']\n",
    "    return Y\n",
    "\n",
    "        "
   ]
  },
  {
   "cell_type": "markdown",
   "metadata": {},
   "source": [
    "Mise en action !"
   ]
  },
  {
   "cell_type": "code",
   "execution_count": 65,
   "metadata": {},
   "outputs": [
    {
     "name": "stdout",
     "output_type": "stream",
     "text": [
      "                                        ID  \\\n",
      "0     22c05930-0eb5-11e7-b53d-bbead8ba43fe   \n",
      "1     8d092fa0-bb99-11e8-a7c9-852783b5a69d   \n",
      "2     44b6a5c0-3466-11e9-8213-25cc7d9bf5fc   \n",
      "3     e9e07ed0-812f-11e8-82aa-61eacebe4584   \n",
      "4     872302b0-5a21-11e9-950c-510fefc1ed35   \n",
      "...                                    ...   \n",
      "2159  d3579370-824f-11e9-af18-9742751bcff8   \n",
      "2160  cce3fc60-c86b-11e9-a6b2-651beb16710e   \n",
      "2161  beec50b0-c85e-11e9-92d3-cb429fb9e457   \n",
      "2162  8cba88c0-a07a-11e9-a8e6-0de7b497e456   \n",
      "2163  f3ae8be0-9fcf-11e9-ab3e-47ec2b68d334   \n",
      "\n",
      "                                                    URL PROPERTY_TYPE  \\\n",
      "0     http://www.avendrealouer.fr/location/levallois...     APARTMENT   \n",
      "1     https://www.bienici.com/annonce/ag440414-16547...     APARTMENT   \n",
      "2     https://www.bellesdemeures.com/annonces/vente/...     APARTMENT   \n",
      "3     https://www.seloger.com/annonces/locations/bur...      PREMISES   \n",
      "4     https://www.bellesdemeures.com/annonces/vente/...         HOUSE   \n",
      "...                                                 ...           ...   \n",
      "2159  https://www.bienici.com/annonce/ag750861-20035...     APARTMENT   \n",
      "2160  https://www.meilleursagents.com/annonces/locat...     APARTMENT   \n",
      "2161  https://www.leboncoin.fr/ventes_immobilieres/1...     APARTMENT   \n",
      "2162  https://www.logic-immo.com/detail-location-bae...       PARKING   \n",
      "2163  https://immobilier.lefigaro.fr/annonces/annonc...     APARTMENT   \n",
      "\n",
      "     NEW_BUILD                                        DESCRIPTION  \\\n",
      "0        False  Au rez de chaussée d'un bel immeuble récent,ap...   \n",
      "1        False  Je vous propose un appartement dans la rue Col...   \n",
      "2        False  Dans un cadre arboré, calme et fleuri, un pent...   \n",
      "3        False  \"Le meilleur coworking flexible de la ville, 5...   \n",
      "4        False  Levallois - Parc de la Planchette A toute prox...   \n",
      "...        ...                                                ...   \n",
      "2159     False  LEVALLOIS-PERRET. Bel appartement idéalement s...   \n",
      "2160     False  À 300 mètres du Métro Pont de Levallois Bécon,...   \n",
      "2161     False  Levallois / Rue barbes - Dans un immeuble réce...   \n",
      "2162       NaN  Levallois-Perret, rue Paul Vaillant Couturier,...   \n",
      "2163     False  2 pièces de 40 m² composé d'un séjour avec ter...   \n",
      "\n",
      "                                                 IMAGES  SURFACE  \\\n",
      "0     [\"https://cf-medias.avendrealouer.fr/image/_87...     72.0   \n",
      "1     [\"http://photos.ubiflow.net/440414/165474561/p...     48.0   \n",
      "2     [\"https://v.seloger.com/s/width/965/visuels/0/...    267.0   \n",
      "3     [\"https://pix.yanport.com/ads/e9e07ed0-812f-11...     50.0   \n",
      "4     [\"https://v.seloger.com/s/width/966/visuels/0/...    330.0   \n",
      "...                                                 ...      ...   \n",
      "2159  [\"http://photos.ubiflow.net/750861/200354631/p...     50.0   \n",
      "2160  [\"http://thumbor.meilleursagents.com/j8Xioi19Y...     31.0   \n",
      "2161                                                 []     67.0   \n",
      "2162  [\"https://mmf.logic-immo.com/mmf/ads/photo-pro...      NaN   \n",
      "2163  [\"http://d1qfj231ug7wdu.cloudfront.net/picture...     40.0   \n",
      "\n",
      "      LAND_SURFACE  TERRACE_SURFACE ROOM_COUNT  ... RENTAL_EXPENSES_INCLUDED  \\\n",
      "0              NaN              NaN        3.0  ...                     True   \n",
      "1              NaN              NaN        2.0  ...                      NaN   \n",
      "2              NaN              NaN        6.0  ...                      NaN   \n",
      "3              NaN              NaN        0.0  ...                      NaN   \n",
      "4              NaN              NaN        8.0  ...                      NaN   \n",
      "...            ...              ...        ...  ...                      ...   \n",
      "2159           NaN              NaN        2.0  ...                      NaN   \n",
      "2160           NaN              NaN        2.0  ...                     True   \n",
      "2161           NaN              NaN        3.0  ...                      NaN   \n",
      "2162           NaN              NaN        NaN  ...                     True   \n",
      "2163           NaN              NaN        2.0  ...                      NaN   \n",
      "\n",
      "     DEPOSIT   FEES FEES_INCLUDED EXCLUSIVE_MANDATE AGENCIES_UNWANTED  \\\n",
      "0        NaN    NaN           NaN             False               NaN   \n",
      "1        NaN    NaN         False             False               NaN   \n",
      "2        NaN    NaN           NaN             False               NaN   \n",
      "3        NaN    NaN           NaN             False               NaN   \n",
      "4        NaN    NaN           NaN             False               NaN   \n",
      "...      ...    ...           ...               ...               ...   \n",
      "2159     NaN    NaN         False             False               NaN   \n",
      "2160     NaN  465.0          True             False               NaN   \n",
      "2161     NaN    NaN          True             False               NaN   \n",
      "2162     NaN    NaN           NaN              True               NaN   \n",
      "2163     NaN    NaN         False             False               NaN   \n",
      "\n",
      "     OCCUPIED                 DEALER_NAME DEALER_TYPE  \\\n",
      "0         NaN        Lamirand Et Associes      AGENCY   \n",
      "1       False          Proprietes Privees   MANDATARY   \n",
      "2       False      Propriétés Parisiennes      AGENCY   \n",
      "3         NaN                         Iwg      AGENCY   \n",
      "4       False         Daniel Feau Neuilly      AGENCY   \n",
      "...       ...                         ...         ...   \n",
      "2159    False          Haussmann Prestige      AGENCY   \n",
      "2160      NaN   MISTER PROPERTY LEVALLOIS      AGENCY   \n",
      "2161    False              Groupe Auteuil      AGENCY   \n",
      "2162      NaN  Nicolas Lanteri Immobilier      AGENCY   \n",
      "2163    False              Blg Immobilier      AGENCY   \n",
      "\n",
      "                                       KEY  \n",
      "0     22c05930-0eb5-11e7-b53d-bbead8ba43fe  \n",
      "1     8d092fa0-bb99-11e8-a7c9-852783b5a69d  \n",
      "2     44b6a5c0-3466-11e9-8213-25cc7d9bf5fc  \n",
      "3     e9e07ed0-812f-11e8-82aa-61eacebe4584  \n",
      "4     872302b0-5a21-11e9-950c-510fefc1ed35  \n",
      "...                                    ...  \n",
      "2159  86a5a800-81c3-11e9-a3ea-ffe50e0986b0  \n",
      "2160  538190f0-c8a5-11e9-92d3-cb429fb9e457  \n",
      "2161  ce8f07b0-a4a5-11e9-96d9-fb3253f8fc6c  \n",
      "2162  8cba88c0-a07a-11e9-a8e6-0de7b497e456  \n",
      "2163  31ab5210-9f1d-11e9-ab3e-47ec2b68d334  \n",
      "\n",
      "[2164 rows x 35 columns]\n"
     ]
    }
   ],
   "source": [
    "X_with_keys = df_with_keys(X)\n",
    "print(X_with_keys)\n",
    "# X_with_keys[\"KEY\"].nunique()"
   ]
  },
  {
   "cell_type": "code",
   "execution_count": 66,
   "metadata": {},
   "outputs": [
    {
     "data": {
      "text/plain": [
       "KEY\n",
       "ddc272a0-3991-11e9-8a1a-297fbcac27e2    43\n",
       "57baa230-c862-11e9-a6b2-651beb16710e     7\n",
       "bde25540-c4f1-11e9-a6b2-651beb16710e     7\n",
       "872302b0-5a21-11e9-950c-510fefc1ed35     7\n",
       "78e1ca10-35a5-11e9-8a1a-297fbcac27e2     7\n",
       "                                        ..\n",
       "e6511700-349b-11e9-8213-25cc7d9bf5fc     1\n",
       "6fc4cb10-8c6e-11e9-a7f2-f5443208fc78     1\n",
       "990b3520-ab51-11e9-aa5e-8b8909b4f047     1\n",
       "d04cd4f0-a28f-11e9-aa5e-8b8909b4f047     1\n",
       "8cba88c0-a07a-11e9-a8e6-0de7b497e456     1\n",
       "Name: count, Length: 1484, dtype: int64"
      ]
     },
     "execution_count": 66,
     "metadata": {},
     "output_type": "execute_result"
    }
   ],
   "source": [
    "X_with_keys[\"KEY\"].value_counts()"
   ]
  },
  {
   "cell_type": "markdown",
   "metadata": {},
   "source": [
    "## Sortie des données "
   ]
  },
  {
   "cell_type": "code",
   "execution_count": 67,
   "metadata": {},
   "outputs": [],
   "source": [
    "df_with_keys = df.copy()\n",
    "df_with_keys[\"KEY\"] = X_with_keys[\"KEY\"]\n",
    "\n",
    "df_with_keys.to_csv('./submission.csv')"
   ]
  },
  {
   "cell_type": "markdown",
   "metadata": {},
   "source": [
    "## Piste d'amélioration : \n",
    "\n",
    "À la fin de cette étude, nous proposons quelques pistes d'amélioration. Certaines n'ont pas pu être réalisées en raison du manque de temps ou de ressources disponibles :\n",
    "\n",
    "* **Dans cette étude**, en raison du manque de données suffisantes, nous avons utilisé un modèle pré-entraîné pour évaluer les similarités entre les textes des descriptions. \n",
    "Nous avons choisi un seuil de 0,85 pour déterminer si deux descriptions sont similaires ou non. Une manière de rendre ce choix plus rigoureux serait de réaliser une méthode de \"minmax\" itératif sur un sous-ensemble des données, plus concrètement,\n"
   ]
  },
  {
   "cell_type": "code",
   "execution_count": 68,
   "metadata": {},
   "outputs": [],
   "source": [
    "\n",
    "import random\n",
    "def seuil(df, n, p): \n",
    "# n = nb de fois d'iteration, p nb de sous-ensemble pris pour estimer le seuil\n",
    "    seuil_list = []\n",
    "    for k in range(n):\n",
    "        max_score = 0\n",
    "        L = random.sample(list(df.index), p)\n",
    "        for i in range(p):\n",
    "            for j in range(i+1, p):\n",
    "                max_score = max(max_score, compare_desc(df, desc_cols, i, j))\n",
    "        seuil_list.append(max_score)\n",
    "    return min(seuil_list)\n"
   ]
  },
  {
   "cell_type": "markdown",
   "metadata": {},
   "source": [
    "Par exemple, nous pourrions calculer le score maximal sur un ensemble de 50 données aléatoires, puis prendre le minimum sur les 5 itérations :"
   ]
  },
  {
   "cell_type": "code",
   "execution_count": 69,
   "metadata": {},
   "outputs": [
    {
     "data": {
      "text/plain": [
       "0.8465062"
      ]
     },
     "execution_count": 69,
     "metadata": {},
     "output_type": "execute_result"
    }
   ],
   "source": [
    "seuil(X, 5, 50)"
   ]
  },
  {
   "cell_type": "markdown",
   "metadata": {},
   "source": [
    "* Critère de confiance : Il serait possible d'ajouter une pondération pour améliorer la précision de l'identification. On pourrait s'attendre à une combinaison linéaire ou non linéaire des fonctions comparatives. Si nous disposions de suffisamment de données d'entraînement et de validation, nous pourrions tenter de trouver les coefficients de pondération pour les fonctions de comparaison d'images, de listes, de catégories, de numéros et de descriptions. Cela permettrait également de minimiser l'impact des saisies incorrectes.\n",
    "\n",
    "* Analyse des photos : Il serait possible d'exploiter les informations utiles contenues dans les images, mais cela dépendrait de la qualité et des conditions de prise de vue des photos. (par exemple, la luminosité lors de la capture de l'extérieur du bâtiment le matin)\n",
    "\n",
    "* Analyse Géo-spatiale : Intégrer des données géospatiales pour affiner les regroupements en fonction de la localisation.\n",
    "\n",
    "* Correction des mauvaises saisies (typographie, fuzzywuzzy) : Mettre en place des mécanismes de correction automatique pour les saisies incorrectes.\n"
   ]
  }
 ],
 "metadata": {
  "kernelspec": {
   "display_name": "Python 3",
   "language": "python",
   "name": "python3"
  },
  "language_info": {
   "codemirror_mode": {
    "name": "ipython",
    "version": 3
   },
   "file_extension": ".py",
   "mimetype": "text/x-python",
   "name": "python",
   "nbconvert_exporter": "python",
   "pygments_lexer": "ipython3",
   "version": "3.11.4"
  },
  "orig_nbformat": 4
 },
 "nbformat": 4,
 "nbformat_minor": 2
}
